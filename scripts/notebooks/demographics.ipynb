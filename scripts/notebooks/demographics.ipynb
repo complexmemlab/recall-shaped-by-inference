{
 "cells": [
  {
   "cell_type": "markdown",
   "metadata": {},
   "source": [
    "# Demographics for the sample\n"
   ]
  },
  {
   "cell_type": "code",
   "execution_count": 3,
   "metadata": {},
   "outputs": [],
   "source": [
    "import pandas as pd\n",
    "import numpy as np\n",
    "import pingouin as pg\n",
    "import sys\n",
    "\n",
    "sys.path.append(\"../../\")\n",
    "from itertools import combinations\n",
    "from src.data.process_strat import *"
   ]
  },
  {
   "cell_type": "code",
   "execution_count": 4,
   "metadata": {},
   "outputs": [],
   "source": [
    "df = pd.read_csv(\"../../data/raw/exp1/wordsconsinfr.csv\")\n",
    "with open(\"../../data/processed/strat_subs.txt\", \"r\") as f:\n",
    "    subs = f.read().splitlines()\n",
    "# get only subs in subs\n",
    "df = df[df[\"PROLIFIC_PID\"].isin(subs)].reset_index(drop=True)"
   ]
  },
  {
   "cell_type": "code",
   "execution_count": 5,
   "metadata": {},
   "outputs": [],
   "source": [
    "df[\"age\"] = df[\"response\"].str.extract(r'\"Age\":\"(\\d+)\"', expand=False)\n",
    "df[\"sex\"] = df[\"response\"].str.extract(r'\"Sex\":\"(\\w+)\"', expand=False)\n",
    "df[\"gender\"] = df[\"response\"].str.extract(r'\"Gender\":\"(\\w+)\"', expand=False)\n",
    "df[\"sex\"] = df[\"sex\"].str.lower()\n",
    "df[\"gender\"] = df[\"gender\"].str.lower()\n",
    "df[\"age\"] = df[\"age\"].astype(float)\n",
    "\n",
    "# one participant answered sex as heterosexual but gender ID as male so adding their response to sex_map\n",
    "\n",
    "sex_map = {\n",
    "    \"female\": \"f\",\n",
    "    \"woman\": \"f\",\n",
    "    \"f\": \"f\",\n",
    "    \"w\": \"f\",\n",
    "    \"male\": \"m\",\n",
    "    \"man\": \"m\",\n",
    "    \"m\": \"m\",\n",
    "    \"heterosexual\": \"m\",\n",
    "}\n",
    "df[\"sex_map\"] = df[\"sex\"].map(sex_map)"
   ]
  },
  {
   "cell_type": "code",
   "execution_count": 6,
   "metadata": {},
   "outputs": [],
   "source": [
    "demos = df[~df[\"age\"].isna()].reset_index(drop=True)"
   ]
  },
  {
   "cell_type": "code",
   "execution_count": 7,
   "metadata": {},
   "outputs": [
    {
     "data": {
      "text/plain": [
       "array(['f', 'm'], dtype=object)"
      ]
     },
     "execution_count": 7,
     "metadata": {},
     "output_type": "execute_result"
    }
   ],
   "source": [
    "demos[\"sex_map\"].unique()"
   ]
  },
  {
   "cell_type": "code",
   "execution_count": 8,
   "metadata": {},
   "outputs": [
    {
     "data": {
      "text/plain": [
       "m    34\n",
       "f    32\n",
       "Name: sex_map, dtype: int64"
      ]
     },
     "execution_count": 8,
     "metadata": {},
     "output_type": "execute_result"
    }
   ],
   "source": [
    "demos[\"sex_map\"].value_counts()"
   ]
  },
  {
   "cell_type": "code",
   "execution_count": 9,
   "metadata": {},
   "outputs": [
    {
     "data": {
      "text/plain": [
       "count    66.000000\n",
       "mean     30.075758\n",
       "std       4.694713\n",
       "min      19.000000\n",
       "25%      27.000000\n",
       "50%      31.000000\n",
       "75%      34.000000\n",
       "max      36.000000\n",
       "Name: age, dtype: float64"
      ]
     },
     "execution_count": 9,
     "metadata": {},
     "output_type": "execute_result"
    }
   ],
   "source": [
    "demos[\"age\"].describe()"
   ]
  },
  {
   "cell_type": "code",
   "execution_count": null,
   "metadata": {},
   "outputs": [],
   "source": []
  }
 ],
 "metadata": {
  "kernelspec": {
   "display_name": "behav",
   "language": "python",
   "name": "python3"
  },
  "language_info": {
   "codemirror_mode": {
    "name": "ipython",
    "version": 3
   },
   "file_extension": ".py",
   "mimetype": "text/x-python",
   "name": "python",
   "nbconvert_exporter": "python",
   "pygments_lexer": "ipython3",
   "version": "3.11.11"
  }
 },
 "nbformat": 4,
 "nbformat_minor": 2
}
