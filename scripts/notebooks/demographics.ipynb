{
 "cells": [
  {
   "cell_type": "markdown",
   "metadata": {},
   "source": [
    "# Demographics for the sample\n"
   ]
  },
  {
   "cell_type": "code",
   "execution_count": 1,
   "metadata": {},
   "outputs": [
    {
     "name": "stderr",
     "output_type": "stream",
     "text": [
      "/Users/abkara/anaconda3/envs/behav/lib/python3.11/site-packages/outdated/utils.py:14: OutdatedPackageWarning: The package pingouin is out of date. Your version is 0.5.3, the latest is 0.5.4.\n",
      "Set the environment variable OUTDATED_IGNORE=1 to disable these warnings.\n",
      "  return warn(\n"
     ]
    }
   ],
   "source": [
    "import pandas as pd\n",
    "import numpy as np\n",
    "import pingouin as pg\n",
    "import sys\n",
    "sys.path.append(\"../../\")\n",
    "from itertools import combinations\n",
    "from src.data.process_strat import *"
   ]
  },
  {
   "cell_type": "code",
   "execution_count": 2,
   "metadata": {},
   "outputs": [],
   "source": [
    "df = pd.read_csv(\"../../data/raw/wordsconsinfr.csv\")\n",
    "with open('../../data/processed/strat_subs.txt','r') as f:\n",
    "    subs = f.read().splitlines()\n",
    "# get only subs in subs\n",
    "df = df[df['PROLIFIC_PID'].isin(subs)].reset_index(drop=True)"
   ]
  },
  {
   "cell_type": "code",
   "execution_count": 3,
   "metadata": {},
   "outputs": [],
   "source": [
    "df[\"age\"] = df['response'].str.extract(r'\"Age\":\"(\\d+)\"', expand=False)\n",
    "df[\"sex\"] = df['response'].str.extract(r'\"Sex\":\"(\\w+)\"', expand=False)\n",
    "df[\"gender\"]= df['response'].str.extract(r'\"Gender\":\"(\\w+)\"', expand=False) \n",
    "df['sex'] = df['sex'].str.lower()\n",
    "df['gender'] = df['gender'].str.lower()\n",
    "df['age'] = df['age'].astype(float)\n",
    "\n",
    "# one participant answered sex as heterosexual but gender ID as male so adding their response to sex_map\n",
    "\n",
    "sex_map = {'female':'f', 'woman':'f','f':'f','w':'f',\n",
    "           'male':'m','man':'m',\"m\":\"m\",\"heterosexual\":\"m\"}\n",
    "df['sex_map'] = df['sex'].map(sex_map)"
   ]
  },
  {
   "cell_type": "code",
   "execution_count": 4,
   "metadata": {},
   "outputs": [],
   "source": [
    "demos = df[~df['age'].isna()].reset_index(drop=True)"
   ]
  },
  {
   "cell_type": "code",
   "execution_count": 5,
   "metadata": {},
   "outputs": [
    {
     "data": {
      "text/plain": [
       "array(['f', 'm'], dtype=object)"
      ]
     },
     "execution_count": 5,
     "metadata": {},
     "output_type": "execute_result"
    }
   ],
   "source": [
    "\n",
    "demos['sex_map'].unique()"
   ]
  },
  {
   "cell_type": "code",
   "execution_count": 6,
   "metadata": {},
   "outputs": [
    {
     "data": {
      "text/plain": [
       "m    40\n",
       "f    33\n",
       "Name: sex_map, dtype: int64"
      ]
     },
     "execution_count": 6,
     "metadata": {},
     "output_type": "execute_result"
    }
   ],
   "source": [
    "demos['sex_map'].value_counts()"
   ]
  },
  {
   "cell_type": "code",
   "execution_count": 7,
   "metadata": {},
   "outputs": [
    {
     "data": {
      "text/plain": [
       "count    73.000000\n",
       "mean     30.273973\n",
       "std       4.543800\n",
       "min      19.000000\n",
       "25%      27.000000\n",
       "50%      31.000000\n",
       "75%      34.000000\n",
       "max      36.000000\n",
       "Name: age, dtype: float64"
      ]
     },
     "execution_count": 7,
     "metadata": {},
     "output_type": "execute_result"
    }
   ],
   "source": [
    "demos['age'].describe()"
   ]
  }
 ],
 "metadata": {
  "kernelspec": {
   "display_name": "behav",
   "language": "python",
   "name": "python3"
  },
  "language_info": {
   "codemirror_mode": {
    "name": "ipython",
    "version": 3
   },
   "file_extension": ".py",
   "mimetype": "text/x-python",
   "name": "python",
   "nbconvert_exporter": "python",
   "pygments_lexer": "ipython3",
   "version": "3.1.-1"
  }
 },
 "nbformat": 4,
 "nbformat_minor": 2
}
