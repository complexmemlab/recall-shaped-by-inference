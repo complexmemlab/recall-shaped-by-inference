{
 "cells": [
  {
   "cell_type": "markdown",
   "metadata": {},
   "source": [
    "# Test Win-Stay Lose-Switch \n",
    "Notebook to test the Win-stay lose-switch models as opposed to the feature RL"
   ]
  },
  {
   "cell_type": "code",
   "execution_count": 15,
   "metadata": {},
   "outputs": [],
   "source": [
    "import numpy as np\n",
    "import sys\n",
    "sys.path.append(\"../../\")\n",
    "from src.models.env import WordsconsinEnv\n",
    "from src.models.feature_rl import *\n",
    "from src.models.decisionmaker import *\n",
    "from src.models.utils import *\n",
    "import pandas as pd\n",
    "import seaborn as sns\n",
    "import matplotlib.pyplot as plt\n",
    "import pingouin as pg\n",
    "from scipy.optimize import minimize"
   ]
  },
  {
   "cell_type": "code",
   "execution_count": 16,
   "metadata": {},
   "outputs": [],
   "source": [
    "# let's test the WSLS epsilon greey behavior with 1 subject\n",
    "\n",
    "strat_df = pd.read_csv(\n",
    "    \"../../data/processed/exp1/DecayFeatureRL_strat_data_rpe.csv\"\n",
    ")\n",
    "strat_df = strat_df[strat_df[\"condition\"] == 1].reset_index(drop=True)\n",
    "sub_strat_df = strat_df[strat_df[\"subid\"] == strat_df[\"subid\"].unique()[0]].reset_index(\n",
    "    drop=True\n",
    ")"
   ]
  },
  {
   "cell_type": "code",
   "execution_count": 17,
   "metadata": {},
   "outputs": [],
   "source": [
    "def _MLE_fit(params, data, model):\n",
    "    curr_model = model(4, *params, data)\n",
    "    return curr_model.fit()\n",
    "\n",
    "\n",
    "bounds = [(0, 1)]\n",
    "params = [0.5]"
   ]
  },
  {
   "cell_type": "code",
   "execution_count": 18,
   "metadata": {},
   "outputs": [],
   "source": [
    "# go through and fit all subjects"
   ]
  },
  {
   "cell_type": "code",
   "execution_count": 20,
   "metadata": {},
   "outputs": [],
   "source": [
    "all_fit_df = pd.DataFrame()\n",
    "for model in [\n",
    "    \"FeatureRL_no_resp_st\",\n",
    "    \"DecayFeatureRL_no_resp_st\",\n",
    "    \"WinStayLoseShiftEpsilonGreedy\",\n",
    "    \"WinStayLoseShiftEpsilonGreedyWithoutReplacement\",\n",
    "]:\n",
    "    fit_df = pd.read_csv(\n",
    "        f\"../../data/processed/exp1/{model}_results.csv\"\n",
    "    )\n",
    "    aic = fit_df[\"aic\"].values\n",
    "    all_fit_df = pd.concat(\n",
    "        [\n",
    "            all_fit_df,\n",
    "            pd.DataFrame({\"subid\": fit_df[\"subid\"].values, \"model\": model, \"aic\": aic}),\n",
    "        ]\n",
    "    )"
   ]
  },
  {
   "cell_type": "code",
   "execution_count": 21,
   "metadata": {},
   "outputs": [
    {
     "name": "stderr",
     "output_type": "stream",
     "text": [
      "/var/folders/ww/zfrl45zs3t9gg68ffdbk5_m80000gn/T/ipykernel_9155/1705551915.py:2: UserWarning: set_ticklabels() should only be used with a fixed number of ticks, i.e. after set_ticks() or using a FixedLocator.\n",
      "  g.set_xticklabels(\n"
     ]
    },
    {
     "data": {
      "image/png": "[encoded data removed]",
      "text/plain": [
       "<Figure size 640x480 with 1 Axes>"
      ]
     },
     "metadata": {},
     "output_type": "display_data"
    }
   ],
   "source": [
    "g = sns.barplot(data=all_fit_df, x=\"model\", y=\"aic\")\n",
    "g.set_xticklabels(\n",
    "    [\n",
    "        \"Feature\\n RL model\",\n",
    "        \"Decay+Feature\\n RL model\",\n",
    "        \"WSLS\",\n",
    "        \"WSLS\\n without replacement\",\n",
    "    ],\n",
    "    # rotation=25,\n",
    ")\n",
    "g.set_ylabel(\"AIC (lower is better)\")\n",
    "g.set_xlabel(\"\")\n",
    "# g.set_title(\"Model fits on paper data\")\n",
    "sns.despine()"
   ]
  },
  {
   "cell_type": "code",
   "execution_count": 22,
   "metadata": {},
   "outputs": [],
   "source": [
    "# pivot out each model loglik into it's own column\n",
    "all_fit_df = all_fit_df.pivot(index=\"subid\", columns=\"model\", values=\"aic\")"
   ]
  },
  {
   "cell_type": "code",
   "execution_count": 23,
   "metadata": {},
   "outputs": [
    {
     "data": {
      "text/html": [
       "<div>\n",
       "<style scoped>\n",
       "    .dataframe tbody tr th:only-of-type {\n",
       "        vertical-align: middle;\n",
       "    }\n",
       "\n",
       "    .dataframe tbody tr th {\n",
       "        vertical-align: top;\n",
       "    }\n",
       "\n",
       "    .dataframe thead th {\n",
       "        text-align: right;\n",
       "    }\n",
       "</style>\n",
       "<table border=\"1\" class=\"dataframe\">\n",
       "  <thead>\n",
       "    <tr style=\"text-align: right;\">\n",
       "      <th>model</th>\n",
       "      <th>subid</th>\n",
       "      <th>DecayFeatureRL_no_resp_st</th>\n",
       "      <th>FeatureRL_no_resp_st</th>\n",
       "      <th>WinStayLoseShiftEpsilonGreedy</th>\n",
       "      <th>WinStayLoseShiftEpsilonGreedyWithoutReplacement</th>\n",
       "    </tr>\n",
       "  </thead>\n",
       "  <tbody>\n",
       "    <tr>\n",
       "      <th>0</th>\n",
       "      <td>53987712fdf99b68e3a45021</td>\n",
       "      <td>206.495778</td>\n",
       "      <td>236.293315</td>\n",
       "      <td>561.386199</td>\n",
       "      <td>571.154682</td>\n",
       "    </tr>\n",
       "    <tr>\n",
       "      <th>1</th>\n",
       "      <td>55885869fdf99b4020ba0b64</td>\n",
       "      <td>305.357972</td>\n",
       "      <td>308.814288</td>\n",
       "      <td>545.411234</td>\n",
       "      <td>522.325908</td>\n",
       "    </tr>\n",
       "    <tr>\n",
       "      <th>2</th>\n",
       "      <td>55914b15fdf99b1e5e44e714</td>\n",
       "      <td>249.581722</td>\n",
       "      <td>290.604327</td>\n",
       "      <td>542.565452</td>\n",
       "      <td>551.112781</td>\n",
       "    </tr>\n",
       "    <tr>\n",
       "      <th>3</th>\n",
       "      <td>55bc1119fdf99b5693f3ec47</td>\n",
       "      <td>286.601622</td>\n",
       "      <td>302.264844</td>\n",
       "      <td>528.162868</td>\n",
       "      <td>550.450105</td>\n",
       "    </tr>\n",
       "    <tr>\n",
       "      <th>4</th>\n",
       "      <td>5685850c333cbd000d4e042f</td>\n",
       "      <td>231.799418</td>\n",
       "      <td>250.701664</td>\n",
       "      <td>557.093936</td>\n",
       "      <td>551.005395</td>\n",
       "    </tr>\n",
       "  </tbody>\n",
       "</table>\n",
       "</div>"
      ],
      "text/plain": [
       "model                     subid  DecayFeatureRL_no_resp_st  \\\n",
       "0      53987712fdf99b68e3a45021                 206.495778   \n",
       "1      55885869fdf99b4020ba0b64                 305.357972   \n",
       "2      55914b15fdf99b1e5e44e714                 249.581722   \n",
       "3      55bc1119fdf99b5693f3ec47                 286.601622   \n",
       "4      5685850c333cbd000d4e042f                 231.799418   \n",
       "\n",
       "model  FeatureRL_no_resp_st  WinStayLoseShiftEpsilonGreedy  \\\n",
       "0                236.293315                     561.386199   \n",
       "1                308.814288                     545.411234   \n",
       "2                290.604327                     542.565452   \n",
       "3                302.264844                     528.162868   \n",
       "4                250.701664                     557.093936   \n",
       "\n",
       "model  WinStayLoseShiftEpsilonGreedyWithoutReplacement  \n",
       "0                                           571.154682  \n",
       "1                                           522.325908  \n",
       "2                                           551.112781  \n",
       "3                                           550.450105  \n",
       "4                                           551.005395  "
      ]
     },
     "execution_count": 23,
     "metadata": {},
     "output_type": "execute_result"
    }
   ],
   "source": [
    "all_fit_df = all_fit_df.reset_index()\n",
    "all_fit_df.head()"
   ]
  },
  {
   "cell_type": "code",
   "execution_count": 24,
   "metadata": {},
   "outputs": [
    {
     "data": {
      "text/html": [
       "<div>\n",
       "<style scoped>\n",
       "    .dataframe tbody tr th:only-of-type {\n",
       "        vertical-align: middle;\n",
       "    }\n",
       "\n",
       "    .dataframe tbody tr th {\n",
       "        vertical-align: top;\n",
       "    }\n",
       "\n",
       "    .dataframe thead th {\n",
       "        text-align: right;\n",
       "    }\n",
       "</style>\n",
       "<table border=\"1\" class=\"dataframe\">\n",
       "  <thead>\n",
       "    <tr style=\"text-align: right;\">\n",
       "      <th>model</th>\n",
       "      <th>subid</th>\n",
       "      <th>DecayFeatureRL_no_resp_st</th>\n",
       "      <th>FeatureRL_no_resp_st</th>\n",
       "      <th>WinStayLoseShiftEpsilonGreedy</th>\n",
       "      <th>WinStayLoseShiftEpsilonGreedyWithoutReplacement</th>\n",
       "      <th>diff_decayless</th>\n",
       "    </tr>\n",
       "  </thead>\n",
       "  <tbody>\n",
       "  </tbody>\n",
       "</table>\n",
       "</div>"
      ],
      "text/plain": [
       "Empty DataFrame\n",
       "Columns: [subid, DecayFeatureRL_no_resp_st, FeatureRL_no_resp_st, WinStayLoseShiftEpsilonGreedy, WinStayLoseShiftEpsilonGreedyWithoutReplacement, diff_decayless]\n",
       "Index: []"
      ]
     },
     "execution_count": 24,
     "metadata": {},
     "output_type": "execute_result"
    }
   ],
   "source": [
    "all_fit_df[\"diff_decayless\"] = (\n",
    "    all_fit_df[\"DecayFeatureRL_no_resp_st\"] - all_fit_df[\"FeatureRL_no_resp_st\"]\n",
    ")\n",
    "all_fit_df[all_fit_df[\"diff_decayless\"] > 0]"
   ]
  },
  {
   "cell_type": "code",
   "execution_count": null,
   "metadata": {},
   "outputs": [],
   "source": []
  }
 ],
 "metadata": {
  "kernelspec": {
   "display_name": "behav",
   "language": "python",
   "name": "python3"
  },
  "language_info": {
   "codemirror_mode": {
    "name": "ipython",
    "version": 3
   },
   "file_extension": ".py",
   "mimetype": "text/x-python",
   "name": "python",
   "nbconvert_exporter": "python",
   "pygments_lexer": "ipython3",
   "version": "3.11.11"
  }
 },
 "nbformat": 4,
 "nbformat_minor": 2
}
